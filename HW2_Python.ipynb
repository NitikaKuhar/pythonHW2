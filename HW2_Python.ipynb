{
 "cells": [
  {
   "cell_type": "markdown",
   "metadata": {},
   "source": [
    "# <h1><center> HomeWork - 2</center></h1>\n",
    "## <center>By : Nitika</center>"
   ]
  },
  {
   "cell_type": "markdown",
   "metadata": {},
   "source": [
    " ## Q1: Create matrix A with size(3,5) containing random numbers"
   ]
  },
  {
   "cell_type": "code",
   "execution_count": 44,
   "metadata": {},
   "outputs": [
    {
     "name": "stdout",
     "output_type": "stream",
     "text": [
      "Matrix with random numbers\n",
      " [[ 1 19  0  4 14]\n",
      " [ 3  6 19  0 14]\n",
      " [10 16  1 15 17]]\n"
     ]
    }
   ],
   "source": [
    "import numpy as np\n",
    "\n",
    "A = np.random.randint(20,size=(3,5))\n",
    "\n",
    "print(\"Matrix with random numbers\\n\",A)"
   ]
  },
  {
   "cell_type": "code",
   "execution_count": null,
   "metadata": {},
   "outputs": [],
   "source": []
  },
  {
   "cell_type": "markdown",
   "metadata": {},
   "source": [
    "## Q2: Find the size and length of martix A."
   ]
  },
  {
   "cell_type": "code",
   "execution_count": 45,
   "metadata": {},
   "outputs": [
    {
     "name": "stdout",
     "output_type": "stream",
     "text": [
      "Size of matrix A: \t 15\n"
     ]
    }
   ],
   "source": [
    "print(\"Size of matrix A: \\t\",A.size)"
   ]
  },
  {
   "cell_type": "code",
   "execution_count": 46,
   "metadata": {},
   "outputs": [
    {
     "name": "stdout",
     "output_type": "stream",
     "text": [
      "Length of matrix A: \t 3\n"
     ]
    }
   ],
   "source": [
    "print(\"Length of matrix A: \\t\",len(A))"
   ]
  },
  {
   "cell_type": "code",
   "execution_count": null,
   "metadata": {},
   "outputs": [],
   "source": []
  },
  {
   "cell_type": "markdown",
   "metadata": {},
   "source": [
    "## Q3: Resize(crop/slice) matrix A to size (3x4)."
   ]
  },
  {
   "cell_type": "code",
   "execution_count": 47,
   "metadata": {},
   "outputs": [
    {
     "name": "stdout",
     "output_type": "stream",
     "text": [
      "Matrix A after resizing to 3x4 size :\n",
      "\n",
      "[[ 1 19  0  4]\n",
      " [14  3  6 19]\n",
      " [ 0 14 10 16]]\n"
     ]
    }
   ],
   "source": [
    "print(\"Matrix A after resizing to 3x4 size :\\n\")\n",
    "A.resize(3,4)\n",
    "print(A)"
   ]
  },
  {
   "cell_type": "code",
   "execution_count": null,
   "metadata": {},
   "outputs": [],
   "source": []
  },
  {
   "cell_type": "markdown",
   "metadata": {},
   "source": [
    "## Q4: Find the transpose of matrix A and assign it to B."
   ]
  },
  {
   "cell_type": "code",
   "execution_count": 83,
   "metadata": {},
   "outputs": [
    {
     "name": "stdout",
     "output_type": "stream",
     "text": [
      "Transpose of matrix A :\n",
      " [[ 1 14  0]\n",
      " [19  3 14]\n",
      " [ 0  6 10]\n",
      " [ 4 19 16]]\n"
     ]
    }
   ],
   "source": [
    "B = A.T\n",
    "print(\"Transpose of matrix A :\\n\", B)"
   ]
  },
  {
   "cell_type": "code",
   "execution_count": null,
   "metadata": {},
   "outputs": [],
   "source": []
  },
  {
   "cell_type": "markdown",
   "metadata": {},
   "source": [
    "## Q5: Find the minimum  value in column 1 of matrix B."
   ]
  },
  {
   "cell_type": "code",
   "execution_count": 49,
   "metadata": {},
   "outputs": [
    {
     "name": "stdout",
     "output_type": "stream",
     "text": [
      "Minimum  value in column 1 of matrix B :\t 0\n"
     ]
    }
   ],
   "source": [
    "print(\"Minimum  value in column 1 of matrix B :\\t\",B.min(axis=0)[0])"
   ]
  },
  {
   "cell_type": "code",
   "execution_count": 52,
   "metadata": {},
   "outputs": [
    {
     "name": "stdout",
     "output_type": "stream",
     "text": [
      "Minimum  value in column 1 of matrix B :\t 0\n"
     ]
    }
   ],
   "source": [
    "print(\"Minimum  value in column 1 of matrix B :\\t\",min(B[:,0]))"
   ]
  },
  {
   "cell_type": "code",
   "execution_count": null,
   "metadata": {},
   "outputs": [],
   "source": []
  },
  {
   "cell_type": "markdown",
   "metadata": {},
   "source": [
    "## Q6: Find the minimum and maximum value for the entire matrix A."
   ]
  },
  {
   "cell_type": "code",
   "execution_count": 53,
   "metadata": {},
   "outputs": [
    {
     "name": "stdout",
     "output_type": "stream",
     "text": [
      "Minimum  value in martix A :\t 0\n"
     ]
    }
   ],
   "source": [
    "print(\"Minimum  value in martix A :\\t\",A.min())"
   ]
  },
  {
   "cell_type": "code",
   "execution_count": 54,
   "metadata": {},
   "outputs": [
    {
     "name": "stdout",
     "output_type": "stream",
     "text": [
      "Maximum  value in martix A :\t 19\n"
     ]
    }
   ],
   "source": [
    "print(\"Maximum  value in martix A :\\t\",A.max())"
   ]
  },
  {
   "cell_type": "code",
   "execution_count": null,
   "metadata": {},
   "outputs": [],
   "source": []
  },
  {
   "cell_type": "markdown",
   "metadata": {},
   "source": [
    "## Q7:Create vector (an array) X with 4 random numbers."
   ]
  },
  {
   "cell_type": "code",
   "execution_count": 55,
   "metadata": {},
   "outputs": [
    {
     "name": "stdout",
     "output_type": "stream",
     "text": [
      "Array X with 4 random numbers : \n",
      "\n",
      " [97 71 78 36]\n"
     ]
    }
   ],
   "source": [
    "X = np.random.randint(1,100,4)\n",
    "\n",
    "print(\"Array X with 4 random numbers : \\n\\n\", X)"
   ]
  },
  {
   "cell_type": "code",
   "execution_count": null,
   "metadata": {},
   "outputs": [],
   "source": []
  },
  {
   "cell_type": "markdown",
   "metadata": {},
   "source": [
    "## Q8: Create a function and pass vector X and matrix A in it and then multiple vector X with matrix A and assign the result in D."
   ]
  },
  {
   "cell_type": "code",
   "execution_count": 75,
   "metadata": {},
   "outputs": [],
   "source": [
    "def multiplication(v,m):\n",
    "    d = v.dot(m.T)\n",
    "    return d"
   ]
  },
  {
   "cell_type": "code",
   "execution_count": null,
   "metadata": {},
   "outputs": [],
   "source": []
  },
  {
   "cell_type": "code",
   "execution_count": 77,
   "metadata": {},
   "outputs": [
    {
     "name": "stdout",
     "output_type": "stream",
     "text": [
      "[1590 2723 2350]\n"
     ]
    }
   ],
   "source": [
    "D = multiplication(X,A)\n",
    "print(D)"
   ]
  },
  {
   "cell_type": "code",
   "execution_count": null,
   "metadata": {},
   "outputs": [],
   "source": []
  },
  {
   "cell_type": "markdown",
   "metadata": {},
   "source": [
    "## Q9: Create a complex number Z with absolute and real part !=0."
   ]
  },
  {
   "cell_type": "code",
   "execution_count": 70,
   "metadata": {},
   "outputs": [
    {
     "name": "stdout",
     "output_type": "stream",
     "text": [
      "Complex number Z : \t (3+5j)\n"
     ]
    }
   ],
   "source": [
    "import cmath\n",
    "\n",
    "Z = complex(3,5)\n",
    "\n",
    "print(\"Complex number Z : \\t\", Z)"
   ]
  },
  {
   "cell_type": "code",
   "execution_count": null,
   "metadata": {},
   "outputs": [],
   "source": []
  },
  {
   "cell_type": "markdown",
   "metadata": {},
   "source": [
    "## Q10: Show the real and imaginary part as well as it's absolute  value."
   ]
  },
  {
   "cell_type": "code",
   "execution_count": 73,
   "metadata": {},
   "outputs": [
    {
     "name": "stdout",
     "output_type": "stream",
     "text": [
      "Real part is : \t 3.0\n",
      "Imaginary part is : \t 5.0\n",
      "Absolute value is : \t 5.830951894845301\n"
     ]
    }
   ],
   "source": [
    "real = Z.real\n",
    "imag = Z.imag\n",
    "absoluteValue = abs(Z)\n",
    "print(\"Real part is : \\t\", real)\n",
    "print(\"Imaginary part is : \\t\", imag)\n",
    "print(\"Absolute value is : \\t\", absoluteValue)"
   ]
  },
  {
   "cell_type": "code",
   "execution_count": null,
   "metadata": {},
   "outputs": [],
   "source": []
  },
  {
   "cell_type": "markdown",
   "metadata": {},
   "source": [
    "## Q11: Multiple result D with absolute value of Z and  record it to C."
   ]
  },
  {
   "cell_type": "code",
   "execution_count": 79,
   "metadata": {},
   "outputs": [
    {
     "name": "stdout",
     "output_type": "stream",
     "text": [
      "[ 9271.2135128  15877.68200966 13702.73695289]\n"
     ]
    }
   ],
   "source": [
    "C = D * absoluteValue\n",
    "\n",
    "print(C)"
   ]
  },
  {
   "cell_type": "code",
   "execution_count": null,
   "metadata": {},
   "outputs": [],
   "source": []
  },
  {
   "cell_type": "markdown",
   "metadata": {},
   "source": [
    "## Q12: Convert matrix B from a matrix to a string and overwrite B."
   ]
  },
  {
   "cell_type": "code",
   "execution_count": 86,
   "metadata": {},
   "outputs": [
    {
     "name": "stdout",
     "output_type": "stream",
     "text": [
      "[['1', '14', '0'], ['19', '3', '14'], ['0', '6', '10'], ['4', '19', '16']]\n"
     ]
    }
   ],
   "source": [
    "B = [[str(i) for i in ele] for ele in B]\n",
    "print(B)"
   ]
  },
  {
   "cell_type": "code",
   "execution_count": null,
   "metadata": {},
   "outputs": [],
   "source": []
  },
  {
   "cell_type": "markdown",
   "metadata": {},
   "source": [
    "## Q13: Display a text on screen \"[Name] is done with HW2\", but pass your name as a string variable."
   ]
  },
  {
   "cell_type": "code",
   "execution_count": 80,
   "metadata": {},
   "outputs": [],
   "source": [
    "name = \"Nitika\""
   ]
  },
  {
   "cell_type": "code",
   "execution_count": 81,
   "metadata": {},
   "outputs": [
    {
     "name": "stdout",
     "output_type": "stream",
     "text": [
      "Nitika  is done with HomeWork 2!!\n"
     ]
    }
   ],
   "source": [
    "print(name,\" is done with HomeWork 2!!\")"
   ]
  },
  {
   "cell_type": "code",
   "execution_count": null,
   "metadata": {},
   "outputs": [],
   "source": []
  }
 ],
 "metadata": {
  "kernelspec": {
   "display_name": "Python 3",
   "language": "python",
   "name": "python3"
  },
  "language_info": {
   "codemirror_mode": {
    "name": "ipython",
    "version": 3
   },
   "file_extension": ".py",
   "mimetype": "text/x-python",
   "name": "python",
   "nbconvert_exporter": "python",
   "pygments_lexer": "ipython3",
   "version": "3.8.0"
  }
 },
 "nbformat": 4,
 "nbformat_minor": 4
}
